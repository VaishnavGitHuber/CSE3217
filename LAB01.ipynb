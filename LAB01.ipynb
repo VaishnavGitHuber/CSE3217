{
 "cells": [
  {
   "cell_type": "markdown",
   "id": "42599312-aa41-4211-94c2-dee97ca9e3d7",
   "metadata": {},
   "source": [
    "### LIST FUNCTIONS IN PYTHON"
   ]
  },
  {
   "cell_type": "code",
   "execution_count": 1,
   "id": "239e4f32-26e6-4fae-b0ff-c708a60d0c0d",
   "metadata": {},
   "outputs": [],
   "source": [
    "# Creating a list \n",
    "color = ['red','blue','green']"
   ]
  },
  {
   "cell_type": "code",
   "execution_count": 3,
   "id": "bc384280-02cb-4bd4-bd30-fb6d7d1ece9b",
   "metadata": {},
   "outputs": [],
   "source": [
    "# List functions \n",
    "# 1. append() \n",
    "color.append('violet')"
   ]
  },
  {
   "cell_type": "code",
   "execution_count": 5,
   "id": "8584aefa-378a-4843-bca9-ad6d46b98eac",
   "metadata": {},
   "outputs": [
    {
     "data": {
      "text/plain": [
       "['red', 'blue', 'green', 'violet']"
      ]
     },
     "execution_count": 5,
     "metadata": {},
     "output_type": "execute_result"
    }
   ],
   "source": [
    "# After Appending \n",
    "color"
   ]
  },
  {
   "cell_type": "code",
   "execution_count": 11,
   "id": "2faf3522-55d0-40df-8c3b-70079af9261f",
   "metadata": {},
   "outputs": [],
   "source": [
    "# 2. extend()\n",
    "color_2 = ['pink','black']\n",
    "color.extend(color_2)"
   ]
  },
  {
   "cell_type": "code",
   "execution_count": 13,
   "id": "b3266c11-33d9-466f-ae56-b40fec3fa7b8",
   "metadata": {},
   "outputs": [
    {
     "data": {
      "text/plain": [
       "['red', 'blue', 'green', 'violet', 'pink', 'black']"
      ]
     },
     "execution_count": 13,
     "metadata": {},
     "output_type": "execute_result"
    }
   ],
   "source": [
    "# After extending \n",
    "color"
   ]
  },
  {
   "cell_type": "code",
   "execution_count": 19,
   "id": "5e7fa713-4ca5-46a2-ad78-762312e595ea",
   "metadata": {},
   "outputs": [],
   "source": [
    "# 3. insert(list_obj, pos)\n",
    "color.insert(1, 'white')"
   ]
  },
  {
   "cell_type": "code",
   "execution_count": 21,
   "id": "87d4ffe5-fd10-48a2-a763-81c93a4d15cd",
   "metadata": {},
   "outputs": [
    {
     "data": {
      "text/plain": [
       "['red', 'white', 'blue', 'green', 'violet', 'pink', 'black']"
      ]
     },
     "execution_count": 21,
     "metadata": {},
     "output_type": "execute_result"
    }
   ],
   "source": [
    "# After inserting 'white' at the first position\n",
    "color"
   ]
  },
  {
   "cell_type": "code",
   "execution_count": 25,
   "id": "2a4d5a6c-e196-4adf-83de-b6b4d5057dbe",
   "metadata": {},
   "outputs": [],
   "source": [
    "# 4. remove()\n",
    "color.remove('blue')"
   ]
  },
  {
   "cell_type": "code",
   "execution_count": 31,
   "id": "13f7a716-b672-4c38-aa8b-090d1913572d",
   "metadata": {},
   "outputs": [
    {
     "data": {
      "text/plain": [
       "['red', 'white', 'green', 'violet', 'pink', 'black']"
      ]
     },
     "execution_count": 31,
     "metadata": {},
     "output_type": "execute_result"
    }
   ],
   "source": [
    "# After removing 'blue'\n",
    "color"
   ]
  },
  {
   "cell_type": "code",
   "execution_count": 35,
   "id": "d7a8800c-cb28-4a48-8b3f-ae365dc519bf",
   "metadata": {},
   "outputs": [
    {
     "data": {
      "text/plain": [
       "'black'"
      ]
     },
     "execution_count": 35,
     "metadata": {},
     "output_type": "execute_result"
    }
   ],
   "source": [
    "# 5. pop(index)\n",
    "color.pop()"
   ]
  },
  {
   "cell_type": "code",
   "execution_count": 39,
   "id": "a5f220ff-e79e-4ada-824b-79c606c535a5",
   "metadata": {},
   "outputs": [
    {
     "data": {
      "text/plain": [
       "['red', 'white', 'green', 'violet', 'pink']"
      ]
     },
     "execution_count": 39,
     "metadata": {},
     "output_type": "execute_result"
    }
   ],
   "source": [
    "# After applying the pop function \n",
    "color"
   ]
  },
  {
   "cell_type": "code",
   "execution_count": 43,
   "id": "e95479ae-6359-4819-8f42-c9b4fd40fe7b",
   "metadata": {},
   "outputs": [],
   "source": [
    "# 6. clear()\n",
    "color.clear()"
   ]
  },
  {
   "cell_type": "code",
   "execution_count": 45,
   "id": "0098ed69-2b1e-49e1-8425-387dcc9d7f1e",
   "metadata": {},
   "outputs": [
    {
     "data": {
      "text/plain": [
       "[]"
      ]
     },
     "execution_count": 45,
     "metadata": {},
     "output_type": "execute_result"
    }
   ],
   "source": [
    "# After applying the clear function \n",
    "color"
   ]
  },
  {
   "cell_type": "code",
   "execution_count": 55,
   "id": "55960979-dc4c-475b-b8e3-5d27181ba7db",
   "metadata": {},
   "outputs": [],
   "source": [
    "# initialising \n",
    "color = ['red', 'white', 'green', 'violet', 'pink','violet']"
   ]
  },
  {
   "cell_type": "code",
   "execution_count": 57,
   "id": "2f09fc9b-80d2-4103-bc30-41f7946d31b7",
   "metadata": {},
   "outputs": [
    {
     "data": {
      "text/plain": [
       "0"
      ]
     },
     "execution_count": 57,
     "metadata": {},
     "output_type": "execute_result"
    }
   ],
   "source": [
    "# 7. index(element) <- return the index of the specified element \n",
    "color.index('red')"
   ]
  },
  {
   "cell_type": "code",
   "execution_count": 59,
   "id": "91887200-9630-4d43-a2f1-a3a0defbd8de",
   "metadata": {},
   "outputs": [
    {
     "data": {
      "text/plain": [
       "2"
      ]
     },
     "execution_count": 59,
     "metadata": {},
     "output_type": "execute_result"
    }
   ],
   "source": [
    "# 8. count(element) <- return the number of the occurences of specified element\n",
    "color.count('violet')"
   ]
  },
  {
   "cell_type": "code",
   "execution_count": 63,
   "id": "0a9020ea-3524-482d-a607-d010b97cfae8",
   "metadata": {},
   "outputs": [],
   "source": [
    "# 9. sort() : sort in the array object in the increasing order \n",
    "color.sort()"
   ]
  },
  {
   "cell_type": "code",
   "execution_count": 65,
   "id": "fe2f9f91-b48f-42d9-987b-ef8e535a2464",
   "metadata": {},
   "outputs": [
    {
     "data": {
      "text/plain": [
       "['green', 'pink', 'red', 'violet', 'violet', 'white']"
      ]
     },
     "execution_count": 65,
     "metadata": {},
     "output_type": "execute_result"
    }
   ],
   "source": [
    "# Color after sorting \n",
    "color"
   ]
  },
  {
   "cell_type": "code",
   "execution_count": 69,
   "id": "660e6bb6-187a-47cc-96d0-747b41cef341",
   "metadata": {},
   "outputs": [],
   "source": [
    "# 10. reverse() <- reverse the list element \n",
    "color.reverse()"
   ]
  },
  {
   "cell_type": "code",
   "execution_count": 71,
   "id": "5a29d86b-1569-4591-8315-07218b55e781",
   "metadata": {},
   "outputs": [
    {
     "data": {
      "text/plain": [
       "['white', 'violet', 'violet', 'red', 'pink', 'green']"
      ]
     },
     "execution_count": 71,
     "metadata": {},
     "output_type": "execute_result"
    }
   ],
   "source": [
    "# Output after the reverse function\n",
    "color"
   ]
  },
  {
   "cell_type": "code",
   "execution_count": 73,
   "id": "6450885b-b17c-450d-96ac-75eb053582f5",
   "metadata": {},
   "outputs": [],
   "source": [
    "# 11. copy() <- create a copy of the list \n",
    "color_copy = color.copy()"
   ]
  },
  {
   "cell_type": "code",
   "execution_count": 75,
   "id": "c871d7b3-a0a4-46d8-97a4-a3afcf987bf1",
   "metadata": {},
   "outputs": [
    {
     "data": {
      "text/plain": [
       "['white', 'violet', 'violet', 'red', 'pink', 'green']"
      ]
     },
     "execution_count": 75,
     "metadata": {},
     "output_type": "execute_result"
    }
   ],
   "source": [
    "# Copy of the orginal list\n",
    "color_copy"
   ]
  }
 ],
 "metadata": {
  "kernelspec": {
   "display_name": "Python [conda env:base] *",
   "language": "python",
   "name": "conda-base-py"
  },
  "language_info": {
   "codemirror_mode": {
    "name": "ipython",
    "version": 3
   },
   "file_extension": ".py",
   "mimetype": "text/x-python",
   "name": "python",
   "nbconvert_exporter": "python",
   "pygments_lexer": "ipython3",
   "version": "3.12.7"
  }
 },
 "nbformat": 4,
 "nbformat_minor": 5
}
